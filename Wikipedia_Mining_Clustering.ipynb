{
 "cells": [
  {
   "cell_type": "code",
   "execution_count": 1,
   "id": "b5dc8565",
   "metadata": {},
   "outputs": [],
   "source": [
    "from collections import defaultdict\n",
    "import dask.distributed\n",
    "from nltk.corpus import stopwords\n",
    "from nltk.stem import PorterStemmer\n",
    "from apriori_general_v2 import apriori_disk, check_itemsets"
   ]
  },
  {
   "cell_type": "code",
   "execution_count": 2,
   "id": "9cccd2da",
   "metadata": {},
   "outputs": [
    {
     "name": "stdout",
     "output_type": "stream",
     "text": [
      "{'d', 'inc', 'verier', 'hath', 'towardest', 'rathest', 'done', 'x', 'gotten', 'nathless', 'whensoev', 'mostli', 'in', 'on', 'yourself', 'herein', 'onc', 'appropriatest', 'now', 'and', 'r', 'musth', 'someon', 'avail', 'viz', 'better', 'all', 'which', 'whither', 'whena', 'ma', 'notwithstand', \"should'v\", 'hae', 'somewher', 'neath', 'much', 'anent', 'sith', 'within', 'anoth', 'see', 'must', 'variousest', 'concerning', 'ourself', 'byandbi', 'certainest', 'whosoev', 'ex', \"she'\", 'himself', 'fourscor', 'our', 'us', 'he', 'abov', 'cum', 'different', 'inform', 'sinc', 'might', 'info', 'p', 'midst', 'few', 'save', 'ain', 'furthermor', \"needn't\", 'down', 'herebi', 'they', 'make', 'therebi', \"shan't\", 'such', 'g', 'these', 'got', 'whithersoev', 'saidest', 'until', 'onli', 'astrid', 'describ', 'beneath', 'themselv', 'shan', \"isn't\", 'hasn', 'upon', 'furtherest', 'differ', 'unlik', 'severalest', 'outsid', 'provid', \"you'v\", 'whoso', 'ourselv', 'gone', 'wherebi', 'vs', 'howbeit', 'thee', 'v', 'thoroughli', 've', 'thu', 'seemingest', 'afterest', 'been', 'vis-a-vi', 'howdoyoudo', 'idemest', 'co', 'hadn', 'though', 'you', \"won't\", 'orer', 'layabout', 'various', 'dure', 'forwhi', 'huh', 'orest', 't', 'unless', 'how', 'therer', 'too', 'somebodi', 'idem', 'sever', 'y', 'wherein', 'among', 'three', 'had', 'whatever', 'do', 'while', 'noon', 'otherwis', 'muchest', 'lest', 'differentest', 'through', 'thereaft', 'underneath', 'saider', 'throughout', 'again', 'samer', 'whom', 'relat', 'under', 'particular', 'despit', 'thener', 'w', 'ever', 'serious', 'mightn', 'further', 'hoo', 'll', 'if', 'downwardest', 'after', 'not', 'beforehand', 'will', 'througher', 'whatsoeverest', 'someth', 'insofar', 'astraddlest', 'evens', 'allest', 'thous', 'indic', 'anyon', 's', 'aren', 'followthrough', 'anyth', 'anybodi', 'unto', 'ye', 'rather', 'same', 'inwardest', 'consid', 'hadst', 'probabl', 'formerest', 'did', 'what', 'mauger', 'dost', 'wherefrom', 'the', 'most', 'rel', 'latterest', 'than', 'it', 'just', 'although', 'inde', 'eg', 'befor', 'should', 'nethermost', 'senza', 'go', 'several', 'whenc', \"doesn't\", 'sine', 'aid', 'regard', 'here', 'seeming', 'everyon', 'particularli', 'hitherest', \"haven't\", \"weren't\", 'who', 'humph', 'around', 'inward', \"shouldn't\", 'variou', 'eight', 'myself', 'etc', 'certain', 'there', 'immediat', 'herself', 'seriousest', 'fail', 'at', 'chez', 'wast', 'extern', 'b', 'afterward', 'canst', 'beforehandest', 'becam', 'yet', 'thruest', 'two', 'be', 'therefor', 'alway', 'syne', 'shouldn', 'doth', 'nor', 'one', 'hardli', 'whose', 'everywher', \"that'll\", 'out', 'send', 'a', 'bist', 'by', 'nigh', 'cant', 'into', 'usernam', 'usual', 'aller', 'availablest', 'versu', 'latterli', 'refer', \"wasn't\", 'thro', 'ere', 'hast', 'togeth', 'till', 'oh', 'whichev', 'cer', 'anear', 'becoming', 'weren', 'alreadi', 'then', 'wouldn', 'betwixt', 'onto', 'we', 'am', 'athwart', 'whatsoever', 'isn', 'six', 'l', 'sometimest', 'have', 'perhap', 'necessariest', 'howev', 'summat', 'fore', 'accordingli', 'overallest', 'haven', 'aught', 'how-do-you-do', 'thise', 'between', 'nighest', 'mucher', 'your', 'offest', 'but', 'from', 'sans', 'less', 'noe', 'cest', 'ani', 'whereof', 'moreov', 'gotta', 'wherewith', 'thi', 'onest', 'nine', 'whichsoev', 'sobeit', 'to', 'j', 'otherwisest', 'couldst', 'appropriat', 'whereupon', 'immedi', 'usedest', 'nobodi', 'availabl', 'f', 'sayyid', 're', 'syn', 'didn', 'nevertheless', 'an', 'andor', 'pro', \"you'd\", 'ought', 'veriest', 'yon', 'use', 'therest', 'alongsid', 'wherev', 'some', 'more', 'wert', 'against', 'itself', 'thoroughest', 'nigher', 'et', 'whi', 'behind', 'up', 'mustn', 'thenest', 'wa', 'often', 'whereaft', 'either', \"didn't\", 'thenc', 'c', 'qua', 'whoever', 'inasmuch', 'plenti', 'toward', 'sanserif', 'aest', 'dday', 'latter', 'stop', 'somehow', 'ie', 'asid', 'fornenst', 'u', 'ha', 'could', 'shall', 'won', 'vis-a-vis', 'fs', 'thing', 'may', 'whencesoev', 'neither', 'yourselv', 'samest', 'lot', 'instead', 'downward', 'rath', 'off', 'forbi', 'per', 'therein', 'whether', 'abaft', 'meanwhil', \"you'll\", 'becomingest', 'so', 'thereupon', 'is', 'hi', 'veri', 'link', 'neth', 'outwith', 'donest', 'mani', 'main', \"aren't\", 'amidst', 'circa', 'immediatest', 'none', 'that', 'i', 'or', 'don', 'no', 'thruer', 'natheless', 'hereaft', \"mustn't\", 'aboutest', 'soer', 'forer', \"don't\", 'couldn', 'abovest', 'doe', 'via', 'would', 'my', 'amongst', 'as', 'whatev', 'consequ', 'can', 'whateverest', 'thine', 'thru', \"mightn't\", 'nowher', \"hadn't\", 'respect', 'aer', 'concern', 'wasn', 'sometim', 'withal', 'where', 'seven', 'also', 'outest', 'astraddl', 'those', 'by-and-bi', \"hasn't\", 'evenest', 'atop', 'plaintiff', 'vis-a-visest', 'she', 'never', 'their', 'other', 'abaftest', 'formerli', 'whereto', \"it'\", 'of', 'h', 'k', 'about', 'que', \"wouldn't\", 'becom', 'when', 'pleas', 'come-on', 'needn', 'san', 'cannot', 'doesn', 'were', 'no-on', 'five', 'yond', 'z', 'somewhat', 'thorough', 'appropri', 'whilst', 'good', 'with', 'sayid', 'enough', 'm', 'said', 'e', 'ase', 'except', 'each', 'allyou', 'amid', 'doner', 'everi', 'along', 'afor', 'forby', 'apart', \"couldn't\", 'former', 'seriou', 'throughest', 'zillion', 'owt', 'apartest', 'astridest', 'exe', 'fewer', 'own', 'henc', 'ten', 'for', 'mayest', 'albeit', 'maugr', 'hither', 'becaus', 'comeon', 'figupon', 'whenev', 'sent', 'sup', 'her', 'oftenest', 'n', 'appear', 'whatsoev', 'fewest', 'unlikest', 'everybodi', 'get', 'necessari', 'oneself', 'him', 'cantest', 'frae', 'atween', 'particularest', 'fact', 'thyself', 'quit', 'concerningest', 'below', 'q', 'whomev', 'four', 'me', 'both', 'besid', 'forev', 'even', 'without', 'are', 'whereinto', 'them', 'wheresoev', 'everyth', 'yonder', 'realli', 'hereupon', 'aw', 'wheen', 'elsewher', 'noth', 'umpteen', \"you'r\", 'seem', 'thou', 'beyond', 'els', 'aslant', 'anywher', 'anyhow', 'wherea', 'almost', 'whereon', 'over', 'evensest', 'o', 'overal', 'soest'}\n"
     ]
    }
   ],
   "source": [
    "count_dict = defaultdict(int)\n",
    "\n",
    "#setup stuff\n",
    "client = dask.distributed.Client(n_workers=6, threads_per_worker=1)  # Adjust based on your CPU\n",
    "nltk_stopwords = stopwords.words('english')\n",
    "with open('additional_stopwords.txt', 'r') as file:\n",
    "    extra_stopwords = [line.strip() for line in file.readlines()]\n",
    "\n",
    "extra_stopwords.extend(nltk_stopwords)\n",
    "extra_stopwords.extend(['links', 'external', 'see', 'may', 'refer', 'link', 'wa'])\n",
    "\n",
    "porter_stemmer = PorterStemmer()\n",
    "extra_stopwords_stemmed = [porter_stemmer.stem(word) for word in extra_stopwords]\n",
    "stopwords_set = set(extra_stopwords_stemmed)\n",
    "print(stopwords_set)"
   ]
  },
  {
   "cell_type": "code",
   "execution_count": null,
   "id": "7c0e25fe",
   "metadata": {},
   "outputs": [],
   "source": [
    "\n",
    "# data = 'data/combined_stemmed.csv'\n",
    "data = 'data/pruned_stemmed.csv'\n",
    "block_size = \"100MB\"\n",
    "\n",
    "# run the apriori disk function\n",
    "frequent_itemsets, string_mapping = apriori_disk(data_file=data,\n",
    "                                                 exclude=stopwords_set,\n",
    "                                                 min_support_percent=.57,\n",
    "                                                 blocksize=block_size,\n",
    "                                                 client=client)\n",
    "\n",
    "# if function returns nothing, don't need to continue\n",
    "if not frequent_itemsets or not string_mapping:\n",
    "    exit()\n",
    "\n",
    "# if you want to recreate the list with the original strings\n",
    "for freq_itemset, support in frequent_itemsets.items():\n",
    "    # Suppose you have a set of integers called int_set\n",
    "    reconstructed_strings = set(key for key, value in string_mapping.items() if value in freq_itemset)\n",
    "    print(reconstructed_strings, \":\", str(support))\n",
    "\n",
    "# the frequent itemsets are the keys of the frequent_itemsets dictionary\n",
    "freq_itemsets_list = list(frequent_itemsets.keys())\n",
    "\n",
    "# for clustering purposes, find if each itemset is present in each line\n",
    "itemset_features = check_itemsets(data, freq_itemsets_list, string_mapping, block_size, client=client)\n",
    "\n",
    "print(itemset_features)\n",
    "\n",
    "# # save all variables so don't need to re-run script + for clustering\n",
    "# with open('data/frequent_itemsets.pkl', 'wb') as f:\n",
    "#     pickle.dump(frequent_itemsets, f)\n",
    "\n",
    "# with open('data/itemset_features.pkl', 'wb') as f:\n",
    "#     pickle.dump(itemset_features, f)\n",
    "\n",
    "# with open('data/itemset_list.pkl', 'wb') as f:\n",
    "#     pickle.dump(freq_itemsets_list, f)\n",
    "\n",
    "# with open('data/string_mapping.pkl', 'wb') as f:\n",
    "#     pickle.dump(string_mapping, f)\n",
    "\n",
    "# with open('log.txt', 'w') as f:\n",
    "#     now = datetime.datetime.now()\n",
    "#     f.write(now.strftime(\"%Y-%m-%d %H:%M:%S\"))\n"
   ]
  }
 ],
 "metadata": {
  "kernelspec": {
   "display_name": "Python 3 (ipykernel)",
   "language": "python",
   "name": "python3"
  },
  "language_info": {
   "codemirror_mode": {
    "name": "ipython",
    "version": 3
   },
   "file_extension": ".py",
   "mimetype": "text/x-python",
   "name": "python",
   "nbconvert_exporter": "python",
   "pygments_lexer": "ipython3",
   "version": "3.10.9"
  }
 },
 "nbformat": 4,
 "nbformat_minor": 5
}
