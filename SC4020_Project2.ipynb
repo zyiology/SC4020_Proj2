{
 "cells": [
  {
   "cell_type": "code",
   "execution_count": 2,
   "id": "4a7ff47b",
   "metadata": {},
   "outputs": [],
   "source": [
    "import bz2\n",
    "import csv\n",
    "import io\n",
    "import re\n",
    "import random\n",
    "from collections.abc import Generator\n",
    "import os\n",
    "from lxml import etree\n",
    "from tqdm import tqdm\n",
    "\n",
    "import numpy as np\n",
    "import pandas as pd"
   ]
  },
  {
   "cell_type": "code",
   "execution_count": 3,
   "id": "e16023f8",
   "metadata": {},
   "outputs": [],
   "source": [
    "# FUNCTIONS FOR READING WIKI DATA: TAKEN FROM https://luizvbo.github.io/post/loading-wikipedia-data-with-python/\n",
    "import wiki_dump"
   ]
  },
  {
   "cell_type": "code",
   "execution_count": 8,
   "id": "6560e839",
   "metadata": {},
   "outputs": [],
   "source": [
    "# Replace with the path to your index and dump files\n",
    "index_file_path = 'data/enwiki-latest-pages-articles-multistream-index.txt.bz2'\n",
    "offsets_file_path = 'data/offsets.txt'\n",
    "dump_file_path = 'data/enwiki-latest-pages-articles-multistream.xml.bz2'\n",
    "output_csv_path = 'data/articles_items.csv'"
   ]
  },
  {
   "cell_type": "code",
   "execution_count": 9,
   "id": "b9decfc6",
   "metadata": {},
   "outputs": [
    {
     "name": "stdout",
     "output_type": "stream",
     "text": [
      "    index                        title  \\\n",
      "0      10          AccessibleComputing   \n",
      "1      12                    Anarchism   \n",
      "2      13           AfghanistanHistory   \n",
      "3      14         AfghanistanGeography   \n",
      "4      15            AfghanistanPeople   \n",
      "..    ...                          ...   \n",
      "95    589  Ashmore And Cartier Islands   \n",
      "96    590      Austin (disambiguation)   \n",
      "97    593                    Animation   \n",
      "98    594                       Apollo   \n",
      "99    595                 Andre Agassi   \n",
      "\n",
      "                                              article  \n",
      "0   #REDIRECT [[Computer accessibility]]\\n\\n{{rcat...  \n",
      "1   {{short description|Political philosophy and m...  \n",
      "2   #REDIRECT [[History of Afghanistan]]\\n\\n{{Redi...  \n",
      "3   #REDIRECT [[Geography of Afghanistan]]\\n\\n{{Re...  \n",
      "4   #REDIRECT [[Demographics of Afghanistan]]\\n\\n{...  \n",
      "..                                                ...  \n",
      "95  #REDIRECT [[Ashmore and Cartier Islands]]\\n\\n{...  \n",
      "96  {{wiktionary|Austin}}\\n'''[[Austin]]''' is the...  \n",
      "97  {{Short description|Method of creating moving ...  \n",
      "98  {{short description|Greek god of music, prophe...  \n",
      "99  {{Short description|American tennis player (bo...  \n",
      "\n",
      "[100 rows x 3 columns]\n"
     ]
    }
   ],
   "source": [
    "offsets = wiki_dump.get_page_offsets(index_file_path, offsets_file_path)\n",
    "for bz2 in wiki_dump.get_bz2_byte_str(dump_file_path, offsets):\n",
    "    df = wiki_dump.get_articles(bz2)\n",
    "    print(df)\n",
    "    break"
   ]
  },
  {
   "cell_type": "code",
   "execution_count": null,
   "id": "b93f65c4",
   "metadata": {},
   "outputs": [],
   "source": []
  }
 ],
 "metadata": {
  "kernelspec": {
   "display_name": "Python 3 (ipykernel)",
   "language": "python",
   "name": "python3"
  },
  "language_info": {
   "codemirror_mode": {
    "name": "ipython",
    "version": 3
   },
   "file_extension": ".py",
   "mimetype": "text/x-python",
   "name": "python",
   "nbconvert_exporter": "python",
   "pygments_lexer": "ipython3",
   "version": "3.10.9"
  }
 },
 "nbformat": 4,
 "nbformat_minor": 5
}
