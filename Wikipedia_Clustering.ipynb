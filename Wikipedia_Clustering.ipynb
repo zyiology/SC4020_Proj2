{
 "cells": [
  {
   "cell_type": "code",
   "execution_count": 1,
   "id": "ccf5b34e-466b-4713-9e95-d663bddc1fbc",
   "metadata": {
    "tags": []
   },
   "outputs": [
    {
     "ename": "FileNotFoundError",
     "evalue": "[Errno 2] No such file or directory: 'data/minsupp_0.2/itemset_features.pkl'",
     "output_type": "error",
     "traceback": [
      "\u001b[1;31m---------------------------------------------------------------------------\u001b[0m",
      "\u001b[1;31mFileNotFoundError\u001b[0m                         Traceback (most recent call last)",
      "Cell \u001b[1;32mIn[1], line 13\u001b[0m\n\u001b[0;32m     10\u001b[0m \u001b[38;5;28;01mfrom\u001b[39;00m \u001b[38;5;21;01msklearn\u001b[39;00m\u001b[38;5;21;01m.\u001b[39;00m\u001b[38;5;21;01mmanifold\u001b[39;00m \u001b[38;5;28;01mimport\u001b[39;00m TSNE\n\u001b[0;32m     12\u001b[0m \u001b[38;5;66;03m# load the itemset_features variable - i created it in the Wikipedia_Mining notebook\u001b[39;00m\n\u001b[1;32m---> 13\u001b[0m \u001b[38;5;28;01mwith\u001b[39;00m \u001b[38;5;28;43mopen\u001b[39;49m\u001b[43m(\u001b[49m\u001b[38;5;124;43m'\u001b[39;49m\u001b[38;5;124;43mdata/minsupp_0.2/itemset_features.pkl\u001b[39;49m\u001b[38;5;124;43m'\u001b[39;49m\u001b[43m,\u001b[49m\u001b[43m \u001b[49m\u001b[38;5;124;43m'\u001b[39;49m\u001b[38;5;124;43mrb\u001b[39;49m\u001b[38;5;124;43m'\u001b[39;49m\u001b[43m)\u001b[49m \u001b[38;5;28;01mas\u001b[39;00m f:\n\u001b[0;32m     14\u001b[0m     itemset_features \u001b[38;5;241m=\u001b[39m pickle\u001b[38;5;241m.\u001b[39mload(f)\n",
      "File \u001b[1;32m~\\.conda\\envs\\SC4020_310\\lib\\site-packages\\IPython\\core\\interactiveshell.py:286\u001b[0m, in \u001b[0;36m_modified_open\u001b[1;34m(file, *args, **kwargs)\u001b[0m\n\u001b[0;32m    279\u001b[0m \u001b[38;5;28;01mif\u001b[39;00m file \u001b[38;5;129;01min\u001b[39;00m {\u001b[38;5;241m0\u001b[39m, \u001b[38;5;241m1\u001b[39m, \u001b[38;5;241m2\u001b[39m}:\n\u001b[0;32m    280\u001b[0m     \u001b[38;5;28;01mraise\u001b[39;00m \u001b[38;5;167;01mValueError\u001b[39;00m(\n\u001b[0;32m    281\u001b[0m         \u001b[38;5;124mf\u001b[39m\u001b[38;5;124m\"\u001b[39m\u001b[38;5;124mIPython won\u001b[39m\u001b[38;5;124m'\u001b[39m\u001b[38;5;124mt let you open fd=\u001b[39m\u001b[38;5;132;01m{\u001b[39;00mfile\u001b[38;5;132;01m}\u001b[39;00m\u001b[38;5;124m by default \u001b[39m\u001b[38;5;124m\"\u001b[39m\n\u001b[0;32m    282\u001b[0m         \u001b[38;5;124m\"\u001b[39m\u001b[38;5;124mas it is likely to crash IPython. If you know what you are doing, \u001b[39m\u001b[38;5;124m\"\u001b[39m\n\u001b[0;32m    283\u001b[0m         \u001b[38;5;124m\"\u001b[39m\u001b[38;5;124myou can use builtins\u001b[39m\u001b[38;5;124m'\u001b[39m\u001b[38;5;124m open.\u001b[39m\u001b[38;5;124m\"\u001b[39m\n\u001b[0;32m    284\u001b[0m     )\n\u001b[1;32m--> 286\u001b[0m \u001b[38;5;28;01mreturn\u001b[39;00m io_open(file, \u001b[38;5;241m*\u001b[39margs, \u001b[38;5;241m*\u001b[39m\u001b[38;5;241m*\u001b[39mkwargs)\n",
      "\u001b[1;31mFileNotFoundError\u001b[0m: [Errno 2] No such file or directory: 'data/minsupp_0.2/itemset_features.pkl'"
     ]
    }
   ],
   "source": [
    "import pickle\n",
    "from scipy.sparse import csr_matrix\n",
    "from clustering import visualize_silhouette_clusters\n",
    "import numpy as np\n",
    "from kmodes.kmodes import KModes\n",
    "from sklearn.cluster import AgglomerativeClustering\n",
    "from sklearn.metrics.pairwise import cosine_distances\n",
    "from soyclustering import SphericalKMeans, visualize_pairwise_distance\n",
    "import matplotlib.pyplot as plt\n",
    "from sklearn.manifold import TSNE\n",
    "\n",
    "# load the itemset_features variable - i created it in the Wikipedia_Mining notebook\n",
    "with open('data/minsupp_0.2/itemset_features.pkl', 'rb') as f:\n",
    "    itemset_features = pickle.load(f)"
   ]
  },
  {
   "cell_type": "code",
   "execution_count": null,
   "id": "33e94632-682a-4af5-b9a0-0662df9caab8",
   "metadata": {},
   "outputs": [],
   "source": [
    "# adjust number of clusters\n",
    "my_num_clusters = 20\n",
    "\n",
    "# convert itemset_features to a sparse matrix that SphericalKMeans will accept\n",
    "itemset_matrix = csr_matrix(itemset_features.astype(int))\n",
    "density = itemset_matrix.getnnz() / np.prod(itemset_matrix.shape)\n",
    "print(\"density of matrix:\", density)\n",
    "\n",
    "spherical_kmeans = SphericalKMeans(\n",
    "        n_clusters=my_num_clusters,\n",
    "        max_iter=25,\n",
    "        verbose=1,\n",
    "        init='similar_cut',\n",
    "        #sparsity='minimum_df',\n",
    "        minimum_df_factor=0.05\n",
    "    )\n",
    "\n",
    "sphkmeans_cluster_labels = spherical_kmeans.fit_predict(itemset_matrix)\n",
    "print('finished spherical clustering')"
   ]
  },
  {
   "cell_type": "code",
   "execution_count": null,
   "id": "650e09e5-23d2-4976-80aa-e4c3f1b6ace3",
   "metadata": {
    "tags": []
   },
   "outputs": [],
   "source": [
    "## Silhouette plot to visualize how good clusters are: if they are good, should see more on the right side\n",
    "## Good average silhouette score apparently should be >0.5?\n",
    "\n",
    "# Subsample before trying to do silhouette visualization, IF dataset is too big\n",
    "subsample = True\n",
    "if subsample:\n",
    "    subsample_size = 10000  # Adjust as needed\n",
    "\n",
    "    # Generate random indices for subsampling\n",
    "    random_indices = np.random.choice(len(itemset_features), subsample_size, replace=False)\n",
    "\n",
    "    subsample_itemset_features = itemset_features[random_indices]\n",
    "    subsample_sphkmeans_cluster_labels = sphkmeans_cluster_labels[random_indices]\n",
    "    visualize_silhouette_clusters(subsample_sphkmeans_cluster_labels, subsample_itemset_features, metric='cosine')\n",
    "else:\n",
    "    visualize_silhouette_clusters(sphkmeans_cluster_labels, itemset_features, metric='cosine')"
   ]
  },
  {
   "cell_type": "code",
   "execution_count": null,
   "id": "b6564329-c621-4028-aee9-177ac658acef",
   "metadata": {
    "tags": []
   },
   "outputs": [],
   "source": [
    "## using t-sne (alternative to pca) to visualize\n",
    "\n",
    "# Calculate cosine distances between binary vectors\n",
    "cosine_distances_matrix = cosine_distances(subsample_itemset_features) if subsample else cosine_distances(itemset_features)\n",
    "\n",
    "# Create a t-SNE instance with cosine distance\n",
    "tsne = TSNE(n_components=2, metric=\"precomputed\", perplexity=30, learning_rate=200, init=\"random\")\n",
    "\n",
    "# Fit t-SNE to the cosine distance matrix\n",
    "tsne_results = tsne.fit_transform(cosine_distances_matrix)\n",
    "\n",
    "# Create a scatter plot to visualize the results\n",
    "plt.figure(figsize=(10, 6))\n",
    "\n",
    "if subsample:\n",
    "    plt.scatter(tsne_results[:, 0], tsne_results[:, 1], c=subsample_sphkmeans_cluster_labels, cmap='viridis')\n",
    "else:\n",
    "    plt.scatter(tsne_results[:, 0], tsne_results[:, 1], c=sphkmeans_cluster_labels, cmap='viridis')\n",
    "plt.colorbar()\n",
    "plt.title('t-SNE Visualization of Clustering Results')\n",
    "plt.xlabel('t-SNE Dimension 1')\n",
    "plt.ylabel('t-SNE Dimension 2')\n",
    "plt.show()\n"
   ]
  },
  {
   "cell_type": "code",
   "execution_count": null,
   "id": "90e79834-1de4-4a46-ab8c-89a16f384aa6",
   "metadata": {},
   "outputs": [],
   "source": [
    "# function included with the sphericalkmeans library to evaluate the distance between the clusters\n",
    "# dark means closer, light means further away - think ideally should have more light squares?\n",
    "\n",
    "sphkmeans_centers = spherical_kmeans.cluster_centers_\n",
    "\n",
    "fig = visualize_pairwise_distance(centers=sphkmeans_centers,\n",
    "                                  labels=sphkmeans_cluster_labels, \n",
    "                                  max_dist=1, \n",
    "                                  sort=False)"
   ]
  },
  {
   "cell_type": "code",
   "execution_count": null,
   "id": "6742373d-4846-4ea4-b38d-2acee2f1b357",
   "metadata": {},
   "outputs": [],
   "source": [
    "# KModes clustering\n",
    "\n",
    "km = KModes(n_clusters=my_num_clusters, init='Huang', n_init=5, verbose=1, n_jobs=-1)\n",
    "kmodes_cluster_labels = km.fit_predict(itemset_features)\n",
    "\n",
    "if subsample:\n",
    "    visualize_silhouette_clusters(kmodes_cluster_labels[random_indices],\n",
    "                                  itemset_features[random_indices],\n",
    "                                  metric='cosine')\n",
    "else:\n",
    "    visualize_silhouette_clusters(kmodes_cluster_labels, itemset_features, metric='cosine')"
   ]
  },
  {
   "cell_type": "code",
   "execution_count": null,
   "id": "5ac38654-14c9-42f6-937c-a1097815aff6",
   "metadata": {
    "tags": []
   },
   "outputs": [],
   "source": [
    "# Agglomerative clustering\n",
    "\n",
    "agglo_cluster_labels = AgglomerativeClustering(n_clusters=my_num_clusters, metric=\"cosine\", linkage=\"average\")\n",
    "\n",
    "if subsample:\n",
    "    visualize_silhouette_clusters(agglo_cluster_labels[random_indices], itemset_features[random_indices], metric='cosine')\n",
    "else:\n",
    "    visualize_silhouette_clusters(agglo_cluster_labels, itemset_features, metric='cosine')"
   ]
  },
  {
   "cell_type": "code",
   "execution_count": null,
   "id": "5af2d996-a418-467d-8010-afcb67327371",
   "metadata": {
    "tags": []
   },
   "outputs": [],
   "source": [
    "# extra\n",
    "\n",
    "#agglomerative clustering\n",
    "\n",
    "# from sklearn.metrics.pairwise import cosine_similarity\n",
    "# Compute the cosine similarity matrix\n",
    "# similarity = cosine_similarity(itemset_features)\n",
    "# print(similarity.__sizeof__()/1024)\n"
   ]
  }
 ],
 "metadata": {
  "kernelspec": {
   "display_name": "Python 3 (ipykernel)",
   "language": "python",
   "name": "python3"
  },
  "language_info": {
   "codemirror_mode": {
    "name": "ipython",
    "version": 3
   },
   "file_extension": ".py",
   "mimetype": "text/x-python",
   "name": "python",
   "nbconvert_exporter": "python",
   "pygments_lexer": "ipython3",
   "version": "3.10.13"
  }
 },
 "nbformat": 4,
 "nbformat_minor": 5
}
