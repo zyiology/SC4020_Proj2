{
 "cells": [
  {
   "cell_type": "code",
   "execution_count": null,
   "id": "7e43ae07-d763-48c3-b34a-3a04bbe77113",
   "metadata": {},
   "outputs": [],
   "source": [
    "## PCA IDEA"
   ]
  },
  {
   "cell_type": "code",
   "execution_count": null,
   "id": "df055c2a-0813-4929-b692-be59e71be12e",
   "metadata": {},
   "outputs": [],
   "source": [
    "# HYPEROPT USING ADJUSTED RAND INDEX\n",
    "from hyperopt import hp, fmin, tpe, Trials\n",
    "from sklearn.cluster import DBSCAN\n",
    "from sklearn.metrics import adjusted_rand_score\n",
    "\n",
    "# Define the search space\n",
    "space = {\n",
    "    'eps': hp.uniform('eps', 1, 5),\n",
    "    'min_samples': hp.choice('min_samples', range(10, 31))\n",
    "}\n",
    "\n",
    "# Define the objective function\n",
    "def objective(params):\n",
    "    dbscan = DBSCAN(**params)\n",
    "    cluster_labels = dbscan.fit_predict(tsne_results)\n",
    "\n",
    "    # Identify non-noise points\n",
    "    non_noise_indices = np.where(cluster_labels != -1)[0]\n",
    "    filtered_labels = cluster_labels[non_noise_indices]\n",
    "    filtered_true_labels = true_labels[non_noise_indices]\n",
    "\n",
    "    score = adjusted_rand_score(filtered_true_labels, filtered_labels)\n",
    "    return -score \n",
    "    # dbscan.fit(tsne_results)\n",
    "    # score = adjusted_rand_score(true_labels, dbscan.labels_)\n",
    "    # return -score  # Negative score because fmin tries to minimize the objective\n",
    "\n",
    "# Run the optimizer\n",
    "best = fmin(\n",
    "    fn=objective,\n",
    "    space=space,\n",
    "    algo=tpe.suggest,\n",
    "    max_evals=500  # Number of evaluations\n",
    ")\n",
    "\n",
    "best_min_samples = range(10, 31)[best['min_samples']]\n",
    "best_eps = best['eps']\n",
    "print(\"Best eps:\", best['eps'])\n",
    "print(\"Best min_samples:\", best_min_samples)"
   ]
  },
  {
   "cell_type": "code",
   "execution_count": null,
   "id": "b46e491e-1c4f-4736-91b4-892bdebb6168",
   "metadata": {
    "tags": []
   },
   "outputs": [],
   "source": [
    "from sklearn.preprocessing import StandardScaler\n",
    "from sklearn.decomposition import PCA\n",
    "\n",
    "# Normalizing the data\n",
    "scaler = StandardScaler()\n",
    "normalized_features = scaler.fit_transform(itemset_features)\n",
    "print(len(normalized_features))\n",
    "\n",
    "# Performing PCA\n",
    "pca_3d = PCA(n_components=3)\n",
    "pca_features_3d = pca_3d.fit_transform(normalized_features)\n",
    "\n",
    "# Plotting the PCA transformed vectors in 3D\n",
    "fig = plt.figure(figsize=(8, 6))\n",
    "ax = fig.add_subplot(111, projection='3d')\n",
    "\n",
    "for label in np.unique(true_labels):\n",
    "    indices = np.where(true_labels == label)\n",
    "    ax.scatter(pca_features_3d[indices, 0], pca_features_3d[indices, 1], pca_features_3d[indices, 2], label=label, s=1)\n",
    "\n",
    "ax.set_xlabel('Principal Component 1')\n",
    "ax.set_ylabel('Principal Component 2')\n",
    "ax.set_zlabel('Principal Component 3')\n",
    "ax.set_title('3D PCA of Transformed Vectors')\n",
    "ax.legend()\n",
    "\n",
    "plt.show()"
   ]
  },
  {
   "cell_type": "code",
   "execution_count": null,
   "id": "36e03054-0d09-4585-9970-2afbca22d699",
   "metadata": {
    "tags": []
   },
   "outputs": [],
   "source": [
    "print(sum(pca_3d.explained_variance_ratio_))"
   ]
  },
  {
   "cell_type": "code",
   "execution_count": null,
   "id": "a1bf7128-22ae-4b87-a5d7-6f61bb510299",
   "metadata": {
    "tags": []
   },
   "outputs": [],
   "source": [
    "# function included with the sphericalkmeans library to evaluate the distance between the clusters\n",
    "# dark means closer, light means further away - think ideally should have more light squares?\n",
    "\n",
    "sphkmeans_centers = spherical_kmeans.cluster_centers_\n",
    "\n",
    "fig = visualize_pairwise_distance(centers=sphkmeans_centers,\n",
    "                                  labels=sphkmeans_cluster_labels, \n",
    "                                  max_dist=1, \n",
    "                                  sort=False)"
   ]
  },
  {
   "cell_type": "code",
   "execution_count": null,
   "id": "12c53a1c-28f1-4bc3-ba6c-657057b84af0",
   "metadata": {
    "tags": []
   },
   "outputs": [],
   "source": [
    "# extra\n",
    "\n",
    "#agglomerative clustering\n",
    "\n",
    "# from sklearn.metrics.pairwise import cosine_similarity\n",
    "# Compute the cosine similarity matrix\n",
    "# similarity = cosine_similarity(itemset_features)\n",
    "# print(similarity.__sizeof__()/1024)\n",
    "\n",
    "\n",
    "np.set_printoptions(threshold=3000)\n",
    "\n",
    "print(true_labels)\n",
    "print(sphkmeans_cluster_labels)\n",
    "\n",
    "from sklearn.metrics import adjusted_rand_score\n",
    "\n",
    "adjusted_rand_score(true_labels)\n"
   ]
  },
  {
   "cell_type": "code",
   "execution_count": null,
   "id": "7a66ced1-b8d7-4848-9fb2-2153fba3b3ae",
   "metadata": {
    "tags": []
   },
   "outputs": [],
   "source": [
    "# extra\n",
    "\n",
    "#agglomerative clustering\n",
    "\n",
    "# from sklearn.metrics.pairwise import cosine_similarity\n",
    "# Compute the cosine similarity matrix\n",
    "# similarity = cosine_similarity(itemset_features)\n",
    "# print(similarity.__sizeof__()/1024)\n",
    "\n",
    "\n",
    "np.set_printoptions(threshold=3000)\n",
    "\n",
    "print(true_labels)\n",
    "print(sphkmeans_cluster_labels)\n",
    "\n",
    "from sklearn.metrics import adjusted_rand_score\n",
    "\n",
    "adjusted_rand_score(true_labels, sphkmeans_cluster_labels)\n"
   ]
  },
  {
   "cell_type": "code",
   "execution_count": null,
   "id": "2ff56796-cb67-4ac2-a98b-78c2176da3de",
   "metadata": {},
   "outputs": [],
   "source": [
    "## RANDOM VISUALIZATION STUFF BELOW"
   ]
  },
  {
   "cell_type": "code",
   "execution_count": null,
   "id": "124c765d-ce73-4ecc-ac4f-0cf62b23cd00",
   "metadata": {
    "tags": []
   },
   "outputs": [],
   "source": [
    "## Silhouette plot to visualize how good clusters are: if they are good, should see more on the right side\n",
    "## Good average silhouette score apparently should be >0.5?\n",
    "\n",
    "visualize_silhouette_clusters(sphkmeans_cluster_labels, itemset_features, metric='cosine')"
   ]
  },
  {
   "cell_type": "code",
   "execution_count": null,
   "id": "5422d63d-0142-4199-a836-e1119c5257a0",
   "metadata": {},
   "outputs": [],
   "source": [
    "## SPH KMEANS MORE IDEA"
   ]
  },
  {
   "cell_type": "code",
   "execution_count": null,
   "id": "3c435385-13dc-4ebd-9273-2f62f54da05d",
   "metadata": {
    "tags": []
   },
   "outputs": [],
   "source": [
    "# adjust number of clusters\n",
    "increased_num_clusters = 3\n",
    "\n",
    "# convert itemset_features to a sparse matrix that SphericalKMeans will accept\n",
    "itemset_matrix = csr_matrix(itemset_features.astype(int))\n",
    "density = itemset_matrix.getnnz() / np.prod(itemset_matrix.shape)\n",
    "print(\"density of matrix:\", density)\n",
    "\n",
    "spherical_kmeans = SphericalKMeans(\n",
    "        n_clusters=increased_num_clusters,\n",
    "        max_iter=100,\n",
    "        verbose=1,\n",
    "        init='similar_cut',\n",
    "        #sparsity='minimum_df',\n",
    "        minimum_df_factor=0.05\n",
    "    )\n",
    "\n",
    "increased_sphkmeans_cluster_labels = spherical_kmeans.fit_predict(itemset_matrix)\n",
    "print('finished spherical clustering')\n",
    "\n",
    "compare_true_labels(true_labels, increased_sphkmeans_cluster_labels, itemset_features)"
   ]
  },
  {
   "cell_type": "code",
   "execution_count": null,
   "id": "e838e41d-fc05-4d82-bd9b-7d279435b8b1",
   "metadata": {
    "tags": []
   },
   "outputs": [],
   "source": [
    "plt.figure(figsize=(10, 6))\n",
    "plt.scatter(tsne_results[:, 0], tsne_results[:, 1], c=increased_sphkmeans_cluster_labels, cmap='viridis')\n",
    "plt.colorbar()\n",
    "plt.title('t-SNE Visualization of Clustering Results')\n",
    "plt.xlabel('t-SNE Dimension 1')\n",
    "plt.ylabel('t-SNE Dimension 2')\n",
    "plt.show()"
   ]
  },
  {
   "cell_type": "code",
   "execution_count": null,
   "id": "72c64cd1-6e25-4c7f-afc9-9f996dcc65ae",
   "metadata": {
    "tags": []
   },
   "outputs": [],
   "source": [
    "# BISECTING SPHERICAL K MEANS\n",
    "\n",
    "from sklearn.metrics.pairwise import cosine_similarity\n",
    "from scipy.sparse import csr_matrix\n",
    "from sklearn.cluster import KMeans\n",
    "import numpy as np\n",
    "\n",
    "# Function to compute intra-cluster variance\n",
    "def intra_cluster_variance(cluster_data):\n",
    "    if len(cluster_data) < 2:\n",
    "        return 0\n",
    "    centroid = np.mean(cluster_data, axis=0)\n",
    "    variance = np.mean(np.square(cosine_similarity(cluster_data, centroid.reshape(1, -1)) - 1))\n",
    "    return variance\n",
    "\n",
    "# Initialization\n",
    "n_clusters = increased_num_clusters\n",
    "clusters = [csr_matrix(itemset_features)]\n",
    "final_labels = np.zeros(len(itemset_features), dtype=int)\n",
    "\n",
    "# Bisecting step\n",
    "while len(clusters) < n_clusters:\n",
    "    highest_variance = 0\n",
    "    cluster_to_split = None\n",
    "    cluster_index = -1\n",
    "\n",
    "    # Find the cluster with the highest intra-cluster variance\n",
    "    for i, cluster in enumerate(clusters):\n",
    "        variance = intra_cluster_variance(cluster.toarray())\n",
    "        if variance > highest_variance:\n",
    "            highest_variance = variance\n",
    "            cluster_to_split = cluster\n",
    "            cluster_index = i\n",
    "\n",
    "    # Perform spherical k-means on the cluster with the highest variance\n",
    "    spherical_kmeans = SphericalKMeans(\n",
    "        n_clusters=2,\n",
    "        max_iter=100,\n",
    "        verbose=1,\n",
    "        init='similar_cut',\n",
    "        minimum_df_factor=0.05\n",
    "    )\n",
    "\n",
    "    sub_cluster_labels = spherical_kmeans.fit_predict(cluster_to_split)\n",
    "\n",
    "    # Replace the original cluster with the two new sub-clusters\n",
    "    clusters.pop(cluster_index)\n",
    "    for new_cluster_index in [0, 1]:\n",
    "        new_cluster_data = cluster_to_split.toarray()[sub_cluster_labels == new_cluster_index, :]\n",
    "        clusters.append(csr_matrix(new_cluster_data))\n",
    "\n",
    "    # Update labels\n",
    "    original_indices = np.where(final_labels == cluster_index)[0]\n",
    "    final_labels[original_indices[sub_cluster_labels == 1]] = len(clusters) - 1\n",
    "    final_labels[original_indices[sub_cluster_labels == 0]] = cluster_index\n",
    "\n",
    "# At this point, `labels` contains the cluster assignments for each data point\n",
    "\n",
    "compare_true_labels(true_labels, final_labels, itemset_features)\n",
    "print(np.unique(final_labels))\n",
    "\n",
    "plt.figure(figsize=(10, 6))\n",
    "plt.scatter(tsne_results[:, 0], tsne_results[:, 1], c=final_labels, cmap='viridis')\n",
    "plt.colorbar()\n",
    "plt.title('t-SNE Visualization of Clustering Results')\n",
    "plt.xlabel('t-SNE Dimension 1')\n",
    "plt.ylabel('t-SNE Dimension 2')\n",
    "plt.show()"
   ]
  },
  {
   "cell_type": "code",
   "execution_count": null,
   "id": "1f242c6d-3991-4733-a831-5f27e94d2c4b",
   "metadata": {
    "tags": []
   },
   "outputs": [],
   "source": [
    "# KModes clustering\n",
    "\n",
    "km = KModes(n_clusters=increased_num_clusters, init='Huang', n_init=5, verbose=1, n_jobs=-1)\n",
    "kmodes_cluster_labels = km.fit_predict(itemset_features)\n",
    "\n",
    "compare_true_labels(true_labels, kmodes_cluster_labels, itemset_features)"
   ]
  },
  {
   "cell_type": "code",
   "execution_count": null,
   "id": "252f4381-3049-42f9-a140-7ceee9ee31bc",
   "metadata": {
    "tags": []
   },
   "outputs": [],
   "source": [
    "plt.figure(figsize=(10, 6))\n",
    "plt.scatter(tsne_results[:, 0], tsne_results[:, 1], c=kmodes_cluster_labels, cmap='viridis')\n",
    "plt.colorbar()\n",
    "plt.title('t-SNE Visualization of Clustering Results')\n",
    "plt.xlabel('t-SNE Dimension 1')\n",
    "plt.ylabel('t-SNE Dimension 2')\n",
    "plt.show()"
   ]
  },
  {
   "cell_type": "code",
   "execution_count": null,
   "id": "3a53fd8a-eaf6-448d-957f-ab10edc8f98a",
   "metadata": {
    "tags": []
   },
   "outputs": [],
   "source": [
    "distances = cosine_distances(itemset_features)\n",
    "\n",
    "agglo_clustering = AgglomerativeClustering(n_clusters=increased_num_clusters, metric=\"precomputed\", linkage=\"average\")\n",
    "agglo_labels = agglo_clustering.fit_predict(distances)\n",
    "\n",
    "compare_true_labels(true_labels, agglo_labels, itemset_features)"
   ]
  }
 ],
 "metadata": {
  "kernelspec": {
   "display_name": "Python 3 (ipykernel)",
   "language": "python",
   "name": "python3"
  },
  "language_info": {
   "codemirror_mode": {
    "name": "ipython",
    "version": 3
   },
   "file_extension": ".py",
   "mimetype": "text/x-python",
   "name": "python",
   "nbconvert_exporter": "python",
   "pygments_lexer": "ipython3",
   "version": "3.10.13"
  }
 },
 "nbformat": 4,
 "nbformat_minor": 5
}
