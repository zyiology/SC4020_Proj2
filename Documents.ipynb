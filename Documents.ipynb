{
 "cells": [
  {
   "cell_type": "code",
   "execution_count": 26,
   "id": "10bedf22-1fd5-4923-8891-df4e5035880a",
   "metadata": {
    "tags": []
   },
   "outputs": [],
   "source": [
    "from nltk.stem import PorterStemmer\n",
    "import re\n",
    "from sklearn.datasets import fetch_20newsgroups\n",
    "from nltk.corpus import words\n",
    "import numpy as np\n",
    "import pickle\n",
    "\n",
    "raw_posts = fetch_20newsgroups(remove=('headers', 'footers', 'quotes'))\n",
    "porter_stemmer = PorterStemmer()\n",
    "english_words = set(words.words())"
   ]
  },
  {
   "cell_type": "code",
   "execution_count": 27,
   "id": "66d76849-b137-44c8-b738-2dc5623dcd83",
   "metadata": {
    "tags": []
   },
   "outputs": [],
   "source": [
    "def get_unique_stemmed_words(text, dictionary):\n",
    "    text = re.sub(r'[^\\w\\s]', '', text)  # remove punctuation\n",
    "    article_words = re.findall(r'\\w+', text.lower())  # convert to lowercase and split\n",
    "    unique_words = set(article_words)  # get unique words\n",
    "    if \"\" in unique_words:\n",
    "        unique_words.remove(\"\")\n",
    "    \n",
    "    stemmed_unique_words = {porter_stemmer.stem(word) for word in unique_words}\n",
    "\n",
    "    filtered_words = stemmed_unique_words.intersection(dictionary)\n",
    "\n",
    "    return list(filtered_words)"
   ]
  },
  {
   "cell_type": "code",
   "execution_count": 30,
   "id": "7a1a115a-4da5-4cc0-9140-b0d7bdef3c55",
   "metadata": {
    "tags": []
   },
   "outputs": [],
   "source": [
    "labels = []\n",
    "\n",
    "with open('data/documents.txt', 'w') as f:\n",
    "    for rawtext, label in zip(raw_posts.data, raw_posts.target):\n",
    "        #print(rawtext)\n",
    "        words = get_unique_stemmed_words(rawtext, english_words)\n",
    "        if len(words)==0:\n",
    "            continue\n",
    "        line = \",\".join(words) + \"\\n\"\n",
    "            \n",
    "        f.write(line)\n",
    "        labels.append(label)\n",
    "        \n",
    "        \n",
    "with open('data/document_labels.pkl', 'wb') as f:\n",
    "    pickle.dump(np.array(labels), f)"
   ]
  },
  {
   "cell_type": "code",
   "execution_count": 25,
   "id": "234b3dd3-3fcb-498d-9f21-80c40fdf7611",
   "metadata": {
    "tags": []
   },
   "outputs": [
    {
     "data": {
      "text/plain": [
       "array([7, 4, 4, ..., 3, 1, 8])"
      ]
     },
     "execution_count": 25,
     "metadata": {},
     "output_type": "execute_result"
    }
   ],
   "source": [
    "raw_posts.target"
   ]
  }
 ],
 "metadata": {
  "kernelspec": {
   "display_name": "Python 3 (ipykernel)",
   "language": "python",
   "name": "python3"
  },
  "language_info": {
   "codemirror_mode": {
    "name": "ipython",
    "version": 3
   },
   "file_extension": ".py",
   "mimetype": "text/x-python",
   "name": "python",
   "nbconvert_exporter": "python",
   "pygments_lexer": "ipython3",
   "version": "3.11.5"
  }
 },
 "nbformat": 4,
 "nbformat_minor": 5
}
