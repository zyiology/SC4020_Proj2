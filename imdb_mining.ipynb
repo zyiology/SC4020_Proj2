{
 "cells": [
  {
   "cell_type": "code",
   "execution_count": 1,
   "id": "b5dc8565",
   "metadata": {
    "tags": []
   },
   "outputs": [],
   "source": [
    "from collections import defaultdict\n",
    "import dask.distributed\n",
    "from nltk.corpus import stopwords\n",
    "from nltk.stem import PorterStemmer\n",
    "from apriori_general_v2 import apriori_disk, check_itemsets\n",
    "import numpy as np\n",
    "import os\n",
    "import pickle\n",
    "import datetime"
   ]
  },
  {
   "cell_type": "code",
   "execution_count": 2,
   "id": "9cccd2da",
   "metadata": {
    "tags": []
   },
   "outputs": [],
   "source": [
    "count_dict = defaultdict(int)\n",
    "\n",
    "#setup stuff\n",
    "client = dask.distributed.Client(n_workers=6, threads_per_worker=1)  # Adjust based on your CPU\n",
    "nltk_stopwords = stopwords.words('english')\n",
    "with open('additional_stopwords.txt', 'r') as file:\n",
    "    extra_stopwords = [line.strip() for line in file.readlines()]\n",
    "\n",
    "extra_stopwords.extend(nltk_stopwords)\n",
    "extra_stopwords.extend(['links', 'external', 'see', 'may', 'refer', 'link', 'wa', 'film'])\n",
    "\n",
    "porter_stemmer = PorterStemmer()\n",
    "extra_stopwords_stemmed = [porter_stemmer.stem(word) for word in extra_stopwords]\n",
    "stopwords_set = set(extra_stopwords_stemmed)"
   ]
  },
  {
   "cell_type": "code",
   "execution_count": 7,
   "id": "7c0e25fe",
   "metadata": {
    "tags": []
   },
   "outputs": [
    {
     "name": "stdout",
     "output_type": "stream",
     "text": [
      "Testing min_support = 0.25\n",
      "no rows:  25000\n",
      "First pass completed\n",
      "Frequent Itemsets Level 1 completed\n",
      "15 itemsets found\n",
      "generating candidates\n",
      "size of total pairs: 0.8828125KB\n",
      "scattered sublists\n",
      "100 candidates generated\n",
      "checking frequency of itemsets...\n",
      "No more frequent itemsets to be found at level 2!\n"
     ]
    },
    {
     "name": "stderr",
     "output_type": "stream",
     "text": [
      "2023-11-22 13:54:57,505 - distributed.nanny - WARNING - Restarting worker\n",
      "2023-11-22 13:54:57,507 - distributed.nanny - WARNING - Restarting worker\n",
      "2023-11-22 13:54:57,511 - distributed.nanny - WARNING - Restarting worker\n",
      "2023-11-22 13:54:57,511 - distributed.nanny - WARNING - Restarting worker\n",
      "2023-11-22 13:54:57,514 - distributed.nanny - WARNING - Restarting worker\n",
      "2023-11-22 13:54:57,515 - distributed.nanny - WARNING - Restarting worker\n"
     ]
    }
   ],
   "source": [
    "# data = 'data/combined_stemmed.csv'\n",
    "# block_size = \"100MB\"\n",
    "\n",
    "data = 'data/imdb_transactions.txt'\n",
    "block_size = \"1080KB\"\n",
    "\n",
    "# min_supports_list = np.arange(start=0.5, stop=0.15, step=--0.05)\n",
    "\n",
    "min_supports_list = [0.18]\n",
    "\n",
    "for min_support in min_supports_list:\n",
    "    \n",
    "    print(f\"Testing min_support = {min_support}\")\n",
    "    directory = f\"data/imdb/minsupp_{min_support}\"\n",
    "    if not os.path.exists(directory):\n",
    "        os.mkdir(directory)\n",
    "\n",
    "    start_time = datetime.datetime.now()\n",
    "\n",
    "    # run the apriori disk function\n",
    "    frequent_itemsets, string_mapping = apriori_disk(data_file=data,\n",
    "                                                     exclude=stopwords_set,\n",
    "                                                     min_support_percent=min_support,\n",
    "                                                     blocksize=block_size,\n",
    "                                                     client=client)\n",
    "    \n",
    "    end_time = datetime.datetime.now()\n",
    "\n",
    "    # if function returns nothing, don't need to continue\n",
    "    if not frequent_itemsets or not string_mapping:\n",
    "        continue\n",
    "\n",
    "    # if you want to recreate the list with the original strings\n",
    "    with open(f\"{directory}/itemsets_and_supports.txt\", 'w') as f:\n",
    "        for freq_itemset, support in frequent_itemsets.items():\n",
    "            # Suppose you have a set of integers called int_set\n",
    "            reconstructed_strings = set(key for key, value in string_mapping.items() if value in freq_itemset)\n",
    "            f.write(f\"{reconstructed_strings}: {support}\\n\")\n",
    "\n",
    "    # the frequent itemsets are the keys of the frequent_itemsets dictionary\n",
    "    freq_itemsets_list = list(frequent_itemsets.keys())\n",
    "\n",
    "    # for clustering purposes, find if each itemset is present in each line\n",
    "    itemset_features = check_itemsets(data, freq_itemsets_list, string_mapping, block_size, client=client)\n",
    "\n",
    "    # save all variables so don't need to re-run script + for clustering\n",
    "    with open(f'{directory}/frequent_itemsets.pkl', 'wb') as f:\n",
    "        pickle.dump(frequent_itemsets, f)\n",
    "\n",
    "    with open(f'{directory}/itemset_features.pkl', 'wb') as f:\n",
    "        pickle.dump(itemset_features, f)\n",
    "\n",
    "    with open(f'{directory}/itemset_list.pkl', 'wb') as f:\n",
    "        pickle.dump(freq_itemsets_list, f)\n",
    "\n",
    "    with open(f'{directory}/string_mapping.pkl', 'wb') as f:\n",
    "        pickle.dump(string_mapping, f)\n",
    "\n",
    "    with open(f'{directory}/log.txt', 'w') as f:\n",
    "        f.write(\"started at \" + start_time.strftime(\"%Y-%m-%d %H:%M:%S\"))\n",
    "        f.write(\"finished at \" + end_time.strftime(\"%Y-%m-%d %H:%M:%S\"))\n"
   ]
  },
  {
   "cell_type": "code",
   "execution_count": 4,
   "id": "9ad72864-c2cd-44b0-8673-5af1f34d4b29",
   "metadata": {
    "tags": []
   },
   "outputs": [
    {
     "name": "stdout",
     "output_type": "stream",
     "text": [
      "[[ True  True  True ... False False False]\n",
      " [False False False ... False False False]\n",
      " [False False False ... False False False]\n",
      " ...\n",
      " [False  True  True ...  True False False]\n",
      " [False False False ... False False False]\n",
      " [ True False False ... False False False]]\n"
     ]
    }
   ],
   "source": [
    "print(itemset_features)"
   ]
  },
  {
   "cell_type": "code",
   "execution_count": 5,
   "id": "cb37d229-d1f9-4aa8-b814-1e5c4902e9ea",
   "metadata": {},
   "outputs": [
    {
     "name": "stdout",
     "output_type": "stream",
     "text": [
      "[frozenset({0}), frozenset({1}), frozenset({2}), frozenset({3}), frozenset({4}), frozenset({5}), frozenset({6}), frozenset({7}), frozenset({8}), frozenset({9}), frozenset({10}), frozenset({11}), frozenset({12}), frozenset({13}), frozenset({14}), frozenset({15}), frozenset({16}), frozenset({17}), frozenset({18}), frozenset({19}), frozenset({20}), frozenset({21}), frozenset({22}), frozenset({23}), frozenset({24}), frozenset({25}), frozenset({26}), frozenset({27}), frozenset({28}), frozenset({29}), frozenset({30}), frozenset({31}), frozenset({32}), frozenset({33}), frozenset({34}), frozenset({35}), frozenset({36}), frozenset({37}), frozenset({38}), frozenset({39}), frozenset({40}), frozenset({41}), frozenset({42}), frozenset({43}), frozenset({44}), frozenset({45}), frozenset({46}), frozenset({47}), frozenset({48}), frozenset({49}), frozenset({50}), frozenset({51}), frozenset({52}), frozenset({53}), frozenset({54}), frozenset({55}), frozenset({56}), frozenset({57}), frozenset({58}), frozenset({59}), frozenset({60}), frozenset({61}), frozenset({62}), frozenset({63}), frozenset({64}), frozenset({65}), frozenset({66}), frozenset({67}), frozenset({68}), frozenset({69}), frozenset({70}), frozenset({71}), frozenset({72}), frozenset({73}), frozenset({74}), frozenset({75}), frozenset({76}), frozenset({77}), frozenset({78}), frozenset({79}), frozenset({80}), frozenset({81}), frozenset({82}), frozenset({83}), frozenset({84}), frozenset({85}), frozenset({86}), frozenset({87}), frozenset({88}), frozenset({89}), frozenset({90}), frozenset({91}), frozenset({92}), frozenset({93}), frozenset({94}), frozenset({95}), frozenset({96}), frozenset({97}), frozenset({98}), frozenset({99}), frozenset({100}), frozenset({101}), frozenset({102}), frozenset({103}), frozenset({104}), frozenset({105}), frozenset({106}), frozenset({107}), frozenset({108}), frozenset({109}), frozenset({110}), frozenset({111}), frozenset({112}), frozenset({113}), frozenset({114}), frozenset({115}), frozenset({116}), frozenset({117}), frozenset({118}), frozenset({119}), frozenset({120}), frozenset({121}), frozenset({122}), frozenset({123}), frozenset({124}), frozenset({125}), frozenset({126}), frozenset({127}), frozenset({128}), frozenset({129}), frozenset({130}), frozenset({131}), frozenset({132}), frozenset({133}), frozenset({134}), frozenset({135}), frozenset({136}), frozenset({137}), frozenset({138}), frozenset({139}), frozenset({140}), frozenset({141}), frozenset({142}), frozenset({5, 6}), frozenset({4, 5}), frozenset({9, 5}), frozenset({3, 5}), frozenset({34, 35}), frozenset({18, 28}), frozenset({34, 4}), frozenset({18, 34}), frozenset({17, 6}), frozenset({34, 36}), frozenset({25, 34}), frozenset({17, 34}), frozenset({34, 28}), frozenset({9, 34}), frozenset({34, 27}), frozenset({26, 34}), frozenset({34, 21}), frozenset({34, 20}), frozenset({18, 6}), frozenset({34, 31}), frozenset({34, 15}), frozenset({34, 6}), frozenset({18, 20}), frozenset({17, 18}), frozenset({33, 34}), frozenset({17, 28}), frozenset({28, 15}), frozenset({28, 6}), frozenset({48, 5}), frozenset({49, 5}), frozenset({5, 46}), frozenset({27, 5}), frozenset({5, 45}), frozenset({50, 5}), frozenset({48, 44}), frozenset({44, 46}), frozenset({44, 5}), frozenset({50, 44}), frozenset({33, 5}), frozenset({5, 15}), frozenset({57, 50}), frozenset({33, 57}), frozenset({69, 46}), frozenset({36, 69}), frozenset({66, 20}), frozenset({66, 69}), frozenset({68, 46}), frozenset({66, 68}), frozenset({68, 69}), frozenset({20, 46}), frozenset({66, 46}), frozenset({34, 50}), frozenset({34, 76}), frozenset({34, 70}), frozenset({76, 63}), frozenset({34, 75}), frozenset({34, 63}), frozenset({20, 76}), frozenset({34, 71}), frozenset({50, 76}), frozenset({33, 76}), frozenset({34, 74}), frozenset({28, 76}), frozenset({36, 76}), frozenset({56, 76}), frozenset({44, 76}), frozenset({76, 5}), frozenset({56, 5}), frozenset({28, 5}), frozenset({5, 79}), frozenset({28, 44}), frozenset({36, 5}), frozenset({5, 78}), frozenset({34, 53}), frozenset({18, 68}), frozenset({26, 76}), frozenset({34, 55}), frozenset({68, 5}), frozenset({26, 5}), frozenset({18, 46}), frozenset({17, 76}), frozenset({49, 76}), frozenset({50, 28}), frozenset({18, 50}), frozenset({5, 86}), frozenset({28, 46}), frozenset({49, 34}), frozenset({27, 76}), frozenset({28, 68}), frozenset({5, 69}), frozenset({18, 76}), frozenset({68, 76}), frozenset({34, 69}), frozenset({34, 68}), frozenset({76, 69}), frozenset({4, 76}), frozenset({34, 5}), frozenset({18, 69}), frozenset({34, 86}), frozenset({76, 46}), frozenset({28, 69}), frozenset({18, 5}), frozenset({34, 46}), frozenset({17, 5}), frozenset({34, 94}), frozenset({34, 92}), frozenset({88, 34}), frozenset({5, 63}), frozenset({48, 66}), frozenset({25, 5}), frozenset({97, 34}), frozenset({96, 34}), frozenset({20, 5}), frozenset({34, 79}), frozenset({17, 66}), frozenset({17, 44}), frozenset({66, 5}), frozenset({18, 66}), frozenset({44, 68}), frozenset({56, 34}), frozenset({96, 5}), frozenset({34, 66}), frozenset({18, 44}), frozenset({48, 34}), frozenset({66, 44}), frozenset({20, 44}), frozenset({34, 44}), frozenset({25, 66}), frozenset({105, 44}), frozenset({105, 46}), frozenset({34, 103}), frozenset({44, 6}), frozenset({105, 6}), frozenset({101, 46}), frozenset({50, 101}), frozenset({50, 6}), frozenset({65, 34}), frozenset({101, 6}), frozenset({46, 6}), frozenset({68, 6}), frozenset({105, 34}), frozenset({68, 101}), frozenset({44, 101}), frozenset({34, 101}), frozenset({5, 62}), frozenset({57, 5}), frozenset({57, 66}), frozenset({5, 94}), frozenset({34, 62}), frozenset({57, 46}), frozenset({57, 34}), frozenset({35, 5}), frozenset({113, 66}), frozenset({113, 6}), frozenset({66, 6}), frozenset({113, 20}), frozenset({113, 18}), frozenset({113, 34}), frozenset({34, 45}), frozenset({115, 5}), frozenset({113, 5}), frozenset({34, 115}), frozenset({34, 3}), frozenset({113, 101}), frozenset({105, 28}), frozenset({28, 101}), frozenset({57, 101}), frozenset({113, 44}), frozenset({57, 113}), frozenset({57, 28}), frozenset({57, 6}), frozenset({57, 44}), frozenset({34, 77}), frozenset({105, 18}), frozenset({33, 113}), frozenset({18, 115}), frozenset({66, 76}), frozenset({76, 6}), frozenset({66, 115}), frozenset({115, 76}), frozenset({50, 66}), frozenset({113, 69}), frozenset({20, 101}), frozenset({57, 115}), frozenset({57, 20}), frozenset({17, 101}), frozenset({66, 28}), frozenset({57, 69}), frozenset({17, 57}), frozenset({69, 6}), frozenset({69, 101}), frozenset({66, 101}), frozenset({66, 27}), frozenset({44, 69}), frozenset({18, 101}), frozenset({34, 130}), frozenset({34, 123}), frozenset({65, 5}), frozenset({113, 76}), frozenset({5, 101}), frozenset({105, 5}), frozenset({105, 76}), frozenset({105, 69}), frozenset({3, 76}), frozenset({76, 101}), frozenset({33, 66}), frozenset({76, 45}), frozenset({113, 46}), frozenset({25, 76}), frozenset({76, 15}), frozenset({48, 76}), frozenset({65, 76}), frozenset({34, 78}), frozenset({57, 18}), frozenset({57, 68}), frozenset({115, 44}), frozenset({57, 76}), frozenset({50, 34, 5}), frozenset({18, 34, 5}), frozenset({34, 5, 46}), frozenset({34, 28, 5}), frozenset({34, 76, 5}), frozenset({17, 34, 5}), frozenset({34, 68, 5}), frozenset({34, 28, 76}), frozenset({34, 5, 66}), frozenset({34, 44, 5}), frozenset({57, 34, 5}), frozenset({34, 5, 6}), frozenset({34, 76, 6}), frozenset({34, 76, 44}), frozenset({34, 5, 101})]\n"
     ]
    }
   ],
   "source": [
    "print(freq_itemsets_list)"
   ]
  },
  {
   "cell_type": "code",
   "execution_count": null,
   "id": "394d2c33-9546-4038-8524-b6c019d89286",
   "metadata": {},
   "outputs": [],
   "source": []
  }
 ],
 "metadata": {
  "kernelspec": {
   "display_name": "Python 3 (ipykernel)",
   "language": "python",
   "name": "python3"
  },
  "language_info": {
   "codemirror_mode": {
    "name": "ipython",
    "version": 3
   },
   "file_extension": ".py",
   "mimetype": "text/x-python",
   "name": "python",
   "nbconvert_exporter": "python",
   "pygments_lexer": "ipython3",
   "version": "3.10.13"
  }
 },
 "nbformat": 4,
 "nbformat_minor": 5
}
