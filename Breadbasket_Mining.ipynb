{
 "cells": [
  {
   "cell_type": "code",
   "execution_count": 1,
   "id": "e2f8d8af-e53d-4153-a715-b07b145b1935",
   "metadata": {
    "tags": []
   },
   "outputs": [],
   "source": [
    "from collections import defaultdict\n",
    "import dask.distributed\n",
    "from nltk.corpus import stopwords\n",
    "from nltk.stem import PorterStemmer\n",
    "from apriori_general_v2 import apriori_disk, check_itemsets\n",
    "import numpy as np\n",
    "import os\n",
    "import pickle\n",
    "import datetime\n",
    "import pandas as pd"
   ]
  },
  {
   "cell_type": "code",
   "execution_count": 2,
   "id": "4323cee7-3514-45ee-9794-b775b5031282",
   "metadata": {
    "tags": []
   },
   "outputs": [],
   "source": [
    "count_dict = defaultdict(int)\n",
    "\n",
    "#setup stuff\n",
    "client = dask.distributed.Client(n_workers=6, threads_per_worker=1)  # Adjust based on your CPU\n",
    "# nltk_stopwords = stopwords.words('english')\n",
    "# with open('additional_stopwords.txt', 'r') as file:\n",
    "#     extra_stopwords = [line.strip() for line in file.readlines()]\n",
    "\n",
    "# extra_stopwords.extend(nltk_stopwords)\n",
    "# extra_stopwords.extend(['links', 'external', 'see', 'may', 'refer', 'link', 'wa'])\n",
    "\n",
    "# porter_stemmer = PorterStemmer()\n",
    "# extra_stopwords_stemmed = [porter_stemmer.stem(word) for word in extra_stopwords]\n",
    "# stopwords_set = set(extra_stopwords_stemmed)"
   ]
  },
  {
   "cell_type": "code",
   "execution_count": 3,
   "id": "c541fcc6-3acc-49f4-8299-90f528afcf8a",
   "metadata": {
    "tags": []
   },
   "outputs": [
    {
     "name": "stdout",
     "output_type": "stream",
     "text": [
      "Testing min_support = 0.01\n",
      "no rows:  9465\n",
      "First pass completed\n",
      "Frequent Itemsets Level 1 completed\n",
      "34 itemsets found\n",
      "generating candidates\n",
      "size of total pairs: 4.6640625KB\n",
      "scattered sublists\n",
      "556 candidates generated\n",
      "checking frequency of itemsets...\n",
      "Frequent Itemsets Level 2 completed\n",
      "23 itemsets found\n",
      "\n",
      "generating candidates\n",
      "size of total pairs: 2.1328125KB\n",
      "scattered sublists\n",
      "11 candidates generated\n",
      "checking frequency of itemsets...\n",
      "Frequent Itemsets Level 3 completed\n",
      "2 itemsets found\n",
      "\n",
      "generating candidates\n",
      "size of total pairs: 0.0703125KB\n",
      "0 candidates generated\n",
      "No more valid candidates to be found at level 4!\n"
     ]
    }
   ],
   "source": [
    "# data = 'data/combined_stemmed.csv'\n",
    "# block_size = \"100MB\"\n",
    "\n",
    "data = 'data/breadbasket_transactions.txt'\n",
    "block_size = \"15KB\"\n",
    "\n",
    "# min_supports_list = np.arange(start=0.5, stop=0.15, step=--0.05)\n",
    "\n",
    "min_supports_list = [0.01]\n",
    "\n",
    "for min_support in min_supports_list:\n",
    "    \n",
    "    print(f\"Testing min_support = {min_support}\")\n",
    "    directory = f\"data/breadbasket/minsupp_{min_support}\"\n",
    "    if not os.path.exists(directory):\n",
    "        os.mkdir(directory)\n",
    "\n",
    "    start_time = datetime.datetime.now()\n",
    "\n",
    "    # run the apriori disk function\n",
    "    frequent_itemsets, string_mapping = apriori_disk(data_file=data,\n",
    "                                                     exclude=None,\n",
    "                                                     min_support_percent=min_support,\n",
    "                                                     blocksize=block_size,\n",
    "                                                     client=client)\n",
    "    \n",
    "    end_time = datetime.datetime.now()\n",
    "\n",
    "    # if function returns nothing, don't need to continue\n",
    "    if not frequent_itemsets or not string_mapping:\n",
    "        continue\n",
    "\n",
    "    # if you want to recreate the list with the original strings\n",
    "    with open(f\"{directory}/itemsets_and_supports.txt\", 'w') as f:\n",
    "        for freq_itemset, support in frequent_itemsets.items():\n",
    "            # Suppose you have a set of integers called int_set\n",
    "            reconstructed_strings = set(key for key, value in string_mapping.items() if value in freq_itemset)\n",
    "            f.write(f\"{reconstructed_strings}: {support}\\n\")\n",
    "\n",
    "    # the frequent itemsets are the keys of the frequent_itemsets dictionary\n",
    "    freq_itemsets_list = list(frequent_itemsets.keys())\n",
    "\n",
    "    # for clustering purposes, find if each itemset is present in each line\n",
    "    itemset_features = check_itemsets(data, freq_itemsets_list, string_mapping, block_size, client=client)\n",
    "\n",
    "    # save all variables so don't need to re-run script + for clustering\n",
    "    with open(f'{directory}/frequent_itemsets.pkl', 'wb') as f:\n",
    "        pickle.dump(frequent_itemsets, f)\n",
    "\n",
    "    with open(f'{directory}/itemset_features.pkl', 'wb') as f:\n",
    "        pickle.dump(itemset_features, f)\n",
    "\n",
    "    with open(f'{directory}/itemset_list.pkl', 'wb') as f:\n",
    "        pickle.dump(freq_itemsets_list, f)\n",
    "\n",
    "    with open(f'{directory}/string_mapping.pkl', 'wb') as f:\n",
    "        pickle.dump(string_mapping, f)\n",
    "\n",
    "\n",
    "    with open(f'{directory}/log.txt', 'w') as f:\n",
    "        f.write(\"started at \" + start_time.strftime(\"%Y-%m-%d %H:%M:%S\"))\n",
    "        f.write(\"finished at \" + end_time.strftime(\"%Y-%m-%d %H:%M:%S\"))\n"
   ]
  },
  {
   "cell_type": "code",
   "execution_count": 4,
   "id": "f38c0861-f1fd-41c7-b9e5-4afc690289b9",
   "metadata": {
    "tags": []
   },
   "outputs": [
    {
     "name": "stdout",
     "output_type": "stream",
     "text": [
      "[[ True False False ... False False False]\n",
      " [False  True False ... False False False]\n",
      " [False False  True ... False False False]\n",
      " ...\n",
      " [False False False ... False False False]\n",
      " [False False False ... False False False]\n",
      " [False False False ... False False False]]\n"
     ]
    }
   ],
   "source": [
    "print(itemset_features)"
   ]
  }
 ],
 "metadata": {
  "kernelspec": {
   "display_name": "Python 3 (ipykernel)",
   "language": "python",
   "name": "python3"
  },
  "language_info": {
   "codemirror_mode": {
    "name": "ipython",
    "version": 3
   },
   "file_extension": ".py",
   "mimetype": "text/x-python",
   "name": "python",
   "nbconvert_exporter": "python",
   "pygments_lexer": "ipython3",
   "version": "3.11.5"
  }
 },
 "nbformat": 4,
 "nbformat_minor": 5
}
