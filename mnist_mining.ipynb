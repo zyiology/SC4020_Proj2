{
 "cells": [
  {
   "cell_type": "code",
   "execution_count": 1,
   "id": "b5dc8565",
   "metadata": {
    "tags": []
   },
   "outputs": [],
   "source": [
    "from collections import defaultdict\n",
    "import dask.distributed\n",
    "from nltk.corpus import stopwords\n",
    "from nltk.stem import PorterStemmer\n",
    "from apriori_general_v2 import apriori_disk, check_itemsets\n",
    "import numpy as np\n",
    "import os\n",
    "import pickle\n",
    "import datetime"
   ]
  },
  {
   "cell_type": "code",
   "execution_count": 2,
   "id": "9cccd2da",
   "metadata": {
    "tags": []
   },
   "outputs": [],
   "source": [
    "# #setup stuff\n",
    "client = dask.distributed.Client(n_workers=6, threads_per_worker=1)  # Adjust based on your CPU\n",
    "# nltk_stopwords = stopwords.words('english')\n",
    "# with open('additional_stopwords.txt', 'r') as file:\n",
    "#     extra_stopwords = [line.strip() for line in file.readlines()]\n",
    "\n",
    "# extra_stopwords.extend(nltk_stopwords)\n",
    "# extra_stopwords.extend(['links', 'external', 'see', 'may', 'refer', 'link', 'wa'])\n",
    "\n",
    "# porter_stemmer = PorterStemmer()\n",
    "# extra_stopwords_stemmed = [porter_stemmer.stem(word) for word in extra_stopwords]\n",
    "# stopwords_set = set(extra_stopwords_stemmed)"
   ]
  },
  {
   "cell_type": "code",
   "execution_count": 7,
   "id": "7c0e25fe",
   "metadata": {
    "tags": []
   },
   "outputs": [
    {
     "name": "stdout",
     "output_type": "stream",
     "text": [
      "Testing min_support = 0.26\n",
      "no rows:  60000\n",
      "First pass completed\n",
      "Frequent Itemsets Level 1 completed\n",
      "198 itemsets found\n",
      "generating candidates\n",
      "size of total pairs: 168.9453125KB\n",
      "scattered sublists\n",
      "19498 candidates generated\n",
      "checking frequency of itemsets...\n",
      "Frequent Itemsets Level 2 completed\n",
      "1190 itemsets found\n",
      "\n",
      "generating candidates\n",
      "size of total pairs: 5794.6328125KB\n",
      "scattered sublists\n",
      "4839 candidates generated\n",
      "checking frequency of itemsets...\n",
      "Frequent Itemsets Level 3 completed\n",
      "856 itemsets found\n",
      "\n",
      "generating candidates\n",
      "size of total pairs: 3215.4765625KB\n",
      "scattered sublists\n",
      "386 candidates generated\n",
      "checking frequency of itemsets...\n",
      "Frequent Itemsets Level 4 completed\n",
      "217 itemsets found\n",
      "\n",
      "generating candidates\n",
      "size of total pairs: 190.1015625KB\n",
      "scattered sublists\n",
      "9 candidates generated\n",
      "checking frequency of itemsets...\n",
      "Frequent Itemsets Level 5 completed\n",
      "5 itemsets found\n",
      "\n",
      "generating candidates\n",
      "size of total pairs: 0.1640625KB\n",
      "0 candidates generated\n",
      "No more valid candidates to be found at level 6!\n"
     ]
    },
    {
     "name": "stderr",
     "output_type": "stream",
     "text": [
      "2023-11-22 23:29:55,238 - distributed.nanny - WARNING - Restarting worker\n",
      "2023-11-22 23:29:55,250 - distributed.nanny - WARNING - Restarting worker\n",
      "2023-11-22 23:29:55,253 - distributed.nanny - WARNING - Restarting worker\n",
      "2023-11-22 23:29:55,257 - distributed.nanny - WARNING - Restarting worker\n",
      "2023-11-22 23:29:55,266 - distributed.nanny - WARNING - Restarting worker\n",
      "2023-11-22 23:29:55,269 - distributed.nanny - WARNING - Restarting worker\n"
     ]
    }
   ],
   "source": [
    "# data = 'data/combined_stemmed.csv'\n",
    "# block_size = \"100MB\"\n",
    "\n",
    "data = 'data/mnist_transactions.txt'\n",
    "block_size = \"2000KB\"\n",
    "\n",
    "# min_supports_list = np.arange(start=0.5, stop=0.15, step=--0.05)\n",
    "\n",
    "min_supports_list = [0.26]\n",
    "\n",
    "for min_support in min_supports_list:\n",
    "    \n",
    "    print(f\"Testing min_support = {min_support}\")\n",
    "    directory = f\"data/mnist/minsupp_{min_support}\"\n",
    "    if not os.path.exists(directory):\n",
    "        os.mkdir(directory)\n",
    "\n",
    "    start_time = datetime.datetime.now()\n",
    "\n",
    "    # run the apriori disk function\n",
    "    frequent_itemsets, string_mapping = apriori_disk(data_file=data,\n",
    "                                                     exclude=None,\n",
    "                                                     min_support_percent=min_support,\n",
    "                                                     blocksize=block_size,\n",
    "                                                     client=client)\n",
    "    \n",
    "    end_time = datetime.datetime.now()\n",
    "\n",
    "    # if function returns nothing, don't need to continue\n",
    "    if not frequent_itemsets or not string_mapping:\n",
    "        continue\n",
    "\n",
    "    # if you want to recreate the list with the original strings\n",
    "    with open(f\"{directory}/itemsets_and_supports.txt\", 'w') as f:\n",
    "        for freq_itemset, support in frequent_itemsets.items():\n",
    "            # Suppose you have a set of integers called int_set\n",
    "            reconstructed_strings = set(key for key, value in string_mapping.items() if value in freq_itemset)\n",
    "            f.write(f\"{reconstructed_strings}: {support}\\n\")\n",
    "\n",
    "    # the frequent itemsets are the keys of the frequent_itemsets dictionary\n",
    "    freq_itemsets_list = list(frequent_itemsets.keys())\n",
    "\n",
    "    # for clustering purposes, find if each itemset is present in each line\n",
    "    itemset_features = check_itemsets(data, freq_itemsets_list, string_mapping, block_size, client=client)\n",
    "\n",
    "    # save all variables so don't need to re-run script + for clustering\n",
    "    with open(f'{directory}/frequent_itemsets.pkl', 'wb') as f:\n",
    "        pickle.dump(frequent_itemsets, f)\n",
    "\n",
    "    with open(f'{directory}/itemset_features.pkl', 'wb') as f:\n",
    "        pickle.dump(itemset_features, f)\n",
    "\n",
    "    with open(f'{directory}/itemset_list.pkl', 'wb') as f:\n",
    "        pickle.dump(freq_itemsets_list, f)\n",
    "\n",
    "    with open(f'{directory}/string_mapping.pkl', 'wb') as f:\n",
    "        pickle.dump(string_mapping, f)\n",
    "\n",
    "    with open(f'{directory}/log.txt', 'w') as f:\n",
    "\n",
    "        f.write(\"started at \" + start_time.strftime(\"%Y-%m-%d %H:%M:%S\") + '\\n')\n",
    "        f.write(\"finished at \" + end_time.strftime(\"%Y-%m-%d %H:%M:%S\") + '\\n')\n",
    "        f.write(\"number of freq itemsets: \" + str(len(freq_itemsets_list)) + '\\n')\n",
    "        f.write(\"length of longest itemset: \" + str(len(freq_itemsets_list[-1])))"
   ]
  },
  {
   "cell_type": "code",
   "execution_count": 4,
   "id": "9ad72864-c2cd-44b0-8673-5af1f34d4b29",
   "metadata": {
    "tags": []
   },
   "outputs": [
    {
     "name": "stdout",
     "output_type": "stream",
     "text": [
      "[[ True  True  True ... False False False]\n",
      " [ True  True  True ... False False False]\n",
      " [False False False ... False False False]\n",
      " ...\n",
      " [False False False ... False False  True]\n",
      " [False False  True ... False  True  True]\n",
      " [False False False ... False False False]]\n"
     ]
    }
   ],
   "source": [
    "print(itemset_features)"
   ]
  },
  {
   "cell_type": "code",
   "execution_count": 5,
   "id": "cb37d229-d1f9-4aa8-b814-1e5c4902e9ea",
   "metadata": {},
   "outputs": [
    {
     "name": "stdout",
     "output_type": "stream",
     "text": [
      "[frozenset({0}), frozenset({1}), frozenset({2}), frozenset({3}), frozenset({4}), frozenset({5}), frozenset({6}), frozenset({7}), frozenset({8}), frozenset({9}), frozenset({10}), frozenset({11}), frozenset({12}), frozenset({13}), frozenset({14}), frozenset({15}), frozenset({16}), frozenset({17}), frozenset({18}), frozenset({19}), frozenset({20}), frozenset({21}), frozenset({22}), frozenset({23}), frozenset({24}), frozenset({25}), frozenset({26}), frozenset({27}), frozenset({28}), frozenset({29}), frozenset({30}), frozenset({31}), frozenset({32}), frozenset({33}), frozenset({34}), frozenset({35}), frozenset({36}), frozenset({37}), frozenset({38}), frozenset({39}), frozenset({40}), frozenset({41}), frozenset({42})]\n"
     ]
    }
   ],
   "source": [
    "print(freq_itemsets_list)"
   ]
  },
  {
   "cell_type": "code",
   "execution_count": null,
   "id": "394d2c33-9546-4038-8524-b6c019d89286",
   "metadata": {},
   "outputs": [],
   "source": []
  }
 ],
 "metadata": {
  "kernelspec": {
   "display_name": "Python 3 (ipykernel)",
   "language": "python",
   "name": "python3"
  },
  "language_info": {
   "codemirror_mode": {
    "name": "ipython",
    "version": 3
   },
   "file_extension": ".py",
   "mimetype": "text/x-python",
   "name": "python",
   "nbconvert_exporter": "python",
   "pygments_lexer": "ipython3",
   "version": "3.10.13"
  }
 },
 "nbformat": 4,
 "nbformat_minor": 5
}
